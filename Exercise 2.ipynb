{
 "cells": [
  {
   "cell_type": "code",
   "execution_count": 2,
   "metadata": {},
   "outputs": [
    {
     "name": "stdout",
     "output_type": "stream",
     "text": [
      "what is dog's age?4\n",
      "58.0\n"
     ]
    }
   ],
   "source": [
    "# Write a Python program to calculate a dog's age in dog's years. Go to the editor\n",
    "# Note: For the first two years, a dog year is equal to 10.5 human years. After that, each dog year equals 4 human years.\n",
    "    \n",
    "age = int(input(\"what is dog's age?\"  ))\n",
    "if age <3:\n",
    "    print(age*10.5)\n",
    "if age >2:\n",
    "    print(age*10.5 + age*4)"
   ]
  },
  {
   "cell_type": "code",
   "execution_count": 29,
   "metadata": {},
   "outputs": [
    {
     "name": "stdout",
     "output_type": "stream",
     "text": [
      "Please give a number8\n",
      "False\n",
      "2 times 4 is 8\n"
     ]
    }
   ],
   "source": [
    "# Write a Python function that takes a number as a parameter and check the number is prime or not.\n",
    "\n",
    "Prime_num = int(input('Please give a number'  ))\n",
    "\n",
    "if Prime_num>1:\n",
    "    for i in range(2,Prime_num):\n",
    "        if(Prime_num % i)==0:\n",
    "            print(\"False\")\n",
    "            print(i,'times',Prime_num//i,'is',Prime_num)\n",
    "            break\n",
    "    else:\n",
    "        print(Prime_num,'True')\n",
    "else:\n",
    "    print(Prime_num,'False')"
   ]
  },
  {
   "cell_type": "code",
   "execution_count": 21,
   "metadata": {},
   "outputs": [],
   "source": [
    "#  Write a Python program to reverse a string\n",
    "\n",
    "org = '1234abcd'\n",
    "org = '1234abcd'[::-1]"
   ]
  },
  {
   "cell_type": "code",
   "execution_count": 22,
   "metadata": {},
   "outputs": [
    {
     "name": "stdout",
     "output_type": "stream",
     "text": [
      "dcba4321\n"
     ]
    }
   ],
   "source": [
    "print(org)"
   ]
  },
  {
   "cell_type": "code",
   "execution_count": 15,
   "metadata": {},
   "outputs": [
    {
     "ename": "SyntaxError",
     "evalue": "invalid syntax (<ipython-input-15-d6edb8110dbe>, line 3)",
     "output_type": "error",
     "traceback": [
      "\u001b[1;36m  File \u001b[1;32m\"<ipython-input-15-d6edb8110dbe>\"\u001b[1;36m, line \u001b[1;32m3\u001b[0m\n\u001b[1;33m    def gcd(x,y)\u001b[0m\n\u001b[1;37m                ^\u001b[0m\n\u001b[1;31mSyntaxError\u001b[0m\u001b[1;31m:\u001b[0m invalid syntax\n"
     ]
    }
   ],
   "source": [
    "\n",
    "# GCD / HCF of two numbers \n",
    "\n",
    "def gcd(x,y)\n",
    "\n",
    "if x>y:\n",
    "    small=y\n",
    "else:\n",
    "    small=x\n",
    "for i in range(1,small+1):\n",
    "    if((x%i==0) and (y%i==0)):\n",
    "        print(gcd = i)\n",
    "return gcd"
   ]
  },
  {
   "cell_type": "code",
   "execution_count": 14,
   "metadata": {},
   "outputs": [
    {
     "ename": "NameError",
     "evalue": "name 'gcd' is not defined",
     "output_type": "error",
     "traceback": [
      "\u001b[1;31m---------------------------------------------------------------------------\u001b[0m",
      "\u001b[1;31mNameError\u001b[0m                                 Traceback (most recent call last)",
      "\u001b[1;32m<ipython-input-14-bd57485212d2>\u001b[0m in \u001b[0;36m<module>\u001b[1;34m\u001b[0m\n\u001b[0;32m      1\u001b[0m \u001b[0mx\u001b[0m\u001b[1;33m=\u001b[0m\u001b[1;36m20\u001b[0m\u001b[1;33m\u001b[0m\u001b[1;33m\u001b[0m\u001b[0m\n\u001b[0;32m      2\u001b[0m \u001b[0my\u001b[0m\u001b[1;33m=\u001b[0m\u001b[1;36m30\u001b[0m\u001b[1;33m\u001b[0m\u001b[1;33m\u001b[0m\u001b[0m\n\u001b[1;32m----> 3\u001b[1;33m \u001b[0mprint\u001b[0m\u001b[1;33m(\u001b[0m\u001b[0mgcd\u001b[0m\u001b[1;33m(\u001b[0m\u001b[1;36m20\u001b[0m\u001b[1;33m,\u001b[0m\u001b[1;36m30\u001b[0m\u001b[1;33m)\u001b[0m\u001b[1;33m)\u001b[0m\u001b[1;33m\u001b[0m\u001b[1;33m\u001b[0m\u001b[0m\n\u001b[0m",
      "\u001b[1;31mNameError\u001b[0m: name 'gcd' is not defined"
     ]
    }
   ],
   "source": [
    "x=20\n",
    "y=30\n",
    "print(gcd(20,30))"
   ]
  },
  {
   "cell_type": "code",
   "execution_count": 27,
   "metadata": {},
   "outputs": [
    {
     "name": "stdout",
     "output_type": "stream",
     "text": [
      "lower count is 32\n",
      "upper count is 13\n"
     ]
    }
   ],
   "source": [
    "# Write a Python function that accepts a string and calculate the number of upper case letters and lower case letters\n",
    "\n",
    "str=\"Inceptz is One of The BeSt Places TO LEarn DataSciEnce\"\n",
    "Lcount = 0\n",
    "Ucount = 0\n",
    "\n",
    "for i in str:\n",
    "    if (i.islower()):\n",
    "        Lcount=Lcount+1\n",
    "    if (i.isupper()):\n",
    "        Ucount=Ucount+1    \n",
    "print(f\"lower count is {Lcount}\")\n",
    "print(f\"upper count is {Ucount}\")"
   ]
  },
  {
   "cell_type": "code",
   "execution_count": 3,
   "metadata": {},
   "outputs": [
    {
     "name": "stdout",
     "output_type": "stream",
     "text": [
      "even count is 3\n",
      "odd count is 5\n"
     ]
    }
   ],
   "source": [
    "# Write a Python program to count the number of even and odd numbers from a series of numbers.\n",
    "\n",
    "find = 1,3,5,4,6,7,8,9\n",
    "\n",
    "ocount=0\n",
    "ecount=0\n",
    "\n",
    "for i in find:\n",
    "    if (i%2)==0:\n",
    "        ecount=ecount+1\n",
    "    if (i%2)!=0:\n",
    "        ocount=ocount+1\n",
    "print(f\"even count is {ecount}\")\n",
    "print(f\"odd count is {ocount}\")        "
   ]
  },
  {
   "cell_type": "code",
   "execution_count": null,
   "metadata": {},
   "outputs": [],
   "source": []
  }
 ],
 "metadata": {
  "kernelspec": {
   "display_name": "Python 3",
   "language": "python",
   "name": "python3"
  },
  "language_info": {
   "codemirror_mode": {
    "name": "ipython",
    "version": 3
   },
   "file_extension": ".py",
   "mimetype": "text/x-python",
   "name": "python",
   "nbconvert_exporter": "python",
   "pygments_lexer": "ipython3",
   "version": "3.8.5"
  }
 },
 "nbformat": 4,
 "nbformat_minor": 4
}
